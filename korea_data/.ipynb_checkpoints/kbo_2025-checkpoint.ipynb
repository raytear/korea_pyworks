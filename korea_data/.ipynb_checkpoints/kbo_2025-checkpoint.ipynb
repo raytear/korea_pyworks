{
 "cells": [
  {
   "cell_type": "code",
   "execution_count": 5,
   "id": "51fb2559-1df3-4803-b94d-930f04734b4d",
   "metadata": {},
   "outputs": [
    {
     "data": {
      "text/plain": [
       "[0.621, 0.557, 0.545, 0.529, 0.511, 0.506, 0.5, 0.494, 0.43, 0.307]"
      ]
     },
     "execution_count": 5,
     "metadata": {},
     "output_type": "execute_result"
    }
   ],
   "source": [
    "# 웹 스크래핑\n",
    "import requests\n",
    "from bs4 import BeautifulSoup\n",
    "\n",
    "# kbo 팀순위 사이트\n",
    "url = \"https://www.koreabaseball.com/record/teamrank/teamrankdaily.aspx\"\n",
    "response = requests.get(url)\n",
    "# response.text\n",
    "# html 파싱\n",
    "html = BeautifulSoup(response.text, 'html.parser')\n",
    "\n",
    "# select() 사용 검색\n",
    "# 첫번째 테이블 - select_one()\n",
    "first_table = html.select_one('table.tData > tbody')\n",
    "# print(first_table)\n",
    "\n",
    "# 특정 열 선택(여러개 - td:nth-of-type(1)) - select()\n",
    "순위 = first_table.select('tr > td:nth-of-type(1)')\n",
    "# 순위\n",
    "# for i in 순위:\n",
    "#    print(i.text)\n",
    "# 순위 리스트 만들기\n",
    "[int(i.text) for i in 순위]\n",
    "\n",
    "팀 = first_table.select('tr > td:nth-of-type(2)')\n",
    "[i.text for i in 팀]\n",
    "\n",
    "승 = first_table.select('tr > td:nth-of-type(4)')\n",
    "[int(i.text) for i in 승]\n",
    "\n",
    "패 = first_table.select('tr > td:nth-of-type(5)')\n",
    "[int(i.text) for i in 패]\n",
    "\n",
    "무 = first_table.select('tr > td:nth-of-type(6)')\n",
    "[int(i.text) for i in 무]\n",
    "\n",
    "승률 = first_table.select('tr > td:nth-of-type(7)')\n",
    "[float(i.text) for i in 승률]"
   ]
  },
  {
   "cell_type": "code",
   "execution_count": 15,
   "id": "19b4ffc2-f64f-4f4a-afeb-9fa2fe8d80cf",
   "metadata": {},
   "outputs": [],
   "source": [
    "# 텍스트 파일 쓰기\n",
    "with open(\"datas/kbo_2025.txt\", \"w\") as f:\n",
    "    f.write(\"===== 2025 한국 프로야구 팀순위 =====\\n\")\n",
    "    head = \"순위\\t팀\\t승\\t패\\t무\\t승률\"\n",
    "    f.write(head)\n",
    "    f.write('\\n')\n",
    "    for i in range(len(팀)): #10번 반복\n",
    "        txt = f'{순위[i].text}\\t{팀[i].text}\\t{승[i].text}\\t{패[i].text}\\t \\\n",
    "{무[i].text}\\t{승률[i].text}\\n'\n",
    "        f.write(txt)"
   ]
  },
  {
   "cell_type": "code",
   "execution_count": 6,
   "id": "88390a6b-79a6-46f1-93e0-7d77b69358f3",
   "metadata": {},
   "outputs": [
    {
     "name": "stdout",
     "output_type": "stream",
     "text": [
      "===== 2025 한국 프로야구 팀순위 =====\n",
      "순위\t팀\t승\t패\t무\t승률\n",
      "1\t한화\t54\t33\t 2\t0.621\n",
      "2\tLG\t49\t39\t 2\t0.557\n",
      "3\t롯데\t48\t40\t 3\t0.545\n",
      "4\tKIA\t45\t40\t 3\t0.529\n",
      "5\tKT\t45\t43\t 3\t0.511\n",
      "6\tSSG\t43\t42\t 3\t0.506\n",
      "7\tNC\t40\t40\t 5\t0.500\n",
      "8\t삼성\t43\t44\t 1\t0.494\n",
      "9\t두산\t37\t49\t 3\t0.430\n",
      "10\t키움\t27\t61\t 3\t0.307\n",
      "\n"
     ]
    }
   ],
   "source": [
    "with open(\"datas/kbo_2025.txt\", \"r\") as f:\n",
    "    data = f.read()\n",
    "    print(data)"
   ]
  },
  {
   "cell_type": "code",
   "execution_count": 7,
   "id": "a927b708-8802-4824-96ed-e1bc1f1e4912",
   "metadata": {},
   "outputs": [],
   "source": [
    "# CSV 파일로 생성\n",
    "\n",
    "import pandas as pd\n",
    "\n",
    "# 데이터프레임 생성\n",
    "data = {\n",
    "    \"순위\": [int(i.text) for i in 순위],\n",
    "    \"팀\": [i.text for i in 팀],\n",
    "    \"승\": [int(i.text) for i in 승],\n",
    "    \"패\": [int(i.text) for i in 패],\n",
    "    \"무\": [int(i.text) for i in 무],\n",
    "    \"승률\": [float(i.text) for i in 승률]\n",
    "}\n",
    "\n",
    "df = pd.DataFrame(data)\n",
    "\n",
    "# csv파일로 변환\n",
    "df.to_csv(\"./datas/kbo_2025.csv\", index = Fal)\n",
    "\n",
    "# csv 파일 읽기\n",
    "kbo = pd.read_csv(\"./datas/kbo_2025.csv\")\n",
    "kbo"
   ]
  }
 ],
 "metadata": {
  "kernelspec": {
   "display_name": "Python 3 (ipykernel)",
   "language": "python",
   "name": "python3"
  },
  "language_info": {
   "codemirror_mode": {
    "name": "ipython",
    "version": 3
   },
   "file_extension": ".py",
   "mimetype": "text/x-python",
   "name": "python",
   "nbconvert_exporter": "python",
   "pygments_lexer": "ipython3",
   "version": "3.13.5"
  }
 },
 "nbformat": 4,
 "nbformat_minor": 5
}
