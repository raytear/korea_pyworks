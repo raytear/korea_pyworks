{
 "cells": [
  {
   "cell_type": "markdown",
   "id": "4a4df777-fb82-469b-9bdd-c8982e67ef98",
   "metadata": {},
   "source": [
    "### 판다스 (pandas) 라이브러리\n",
    "- #### 시리즈 (Series) : 데이터가 순차적으로 나열된 1차원 리스트 형태로<br> 인덱스와(index)와 데이터 값(value)이 일대일로 대응됨\n",
    "- #### 데이터프레임(DataFrame) : 행과 열로 만들어지는 2차원 리스트 구조로 표 형태이다."
   ]
  },
  {
   "cell_type": "code",
   "execution_count": 3,
   "id": "65e2605d-3cfa-49b0-ae14-6e803d89546d",
   "metadata": {},
   "outputs": [],
   "source": [
    "# 판다스 설치(주피터 노트북에서는 pip 앞에 느낌표부호(!) 붙임)\n",
    "# !pip install pandas"
   ]
  },
  {
   "cell_type": "code",
   "execution_count": 10,
   "id": "8de2e7ff-c526-4bd5-bfbb-ec73f6e4378f",
   "metadata": {},
   "outputs": [
    {
     "name": "stdout",
     "output_type": "stream",
     "text": [
      "1        키보드\n",
      "2        마우스\n",
      "3    USB 메모리\n",
      "dtype: object\n",
      "<class 'pandas.core.series.Series'>\n",
      "Index([1, 2, 3], dtype='int64')\n",
      "['키보드' '마우스' 'USB 메모리']\n",
      "(3,)\n"
     ]
    },
    {
     "data": {
      "text/plain": [
       "1        키보드\n",
       "2        마우스\n",
       "3    USB 메모리\n",
       "dtype: object"
      ]
     },
     "execution_count": 10,
     "metadata": {},
     "output_type": "execute_result"
    }
   ],
   "source": [
    "import pandas as pd\n",
    "\n",
    "# 시리즈 형태 데이터 만들기(제품명)\n",
    "data = [\"키보드\", \"마우스\", \"USB 메모리\"]\n",
    "\n",
    "# index를 생략하면 0부터 시작됨\n",
    "s1 = pd.Series(data, index=[1, 2, 3])\n",
    "print(s1)\n",
    "print(type(s1))\n",
    "\n",
    "# 시리즈의 속성\n",
    "print(s1.index)\n",
    "print(s1.values)\n",
    "print(s1.shape) #시리즈의 크기(튜플)\n",
    "\n",
    "# 요소 선택\n",
    "s1[1] #1번 인덱스 검색\n",
    "s1[2]\n",
    "s1[0:3] #슬라이싱 할 때는 0번부터 시작"
   ]
  },
  {
   "cell_type": "code",
   "execution_count": 13,
   "id": "0c8ae0a0-9ab0-437b-b0b9-404cd65199db",
   "metadata": {},
   "outputs": [
    {
     "data": {
      "text/plain": [
       "dtype('int64')"
      ]
     },
     "execution_count": 13,
     "metadata": {},
     "output_type": "execute_result"
    }
   ],
   "source": [
    "# 시리즈(가격)\n",
    "idx = [1, 2, 3]\n",
    "\n",
    "s2 = pd.Series([20000, 32000, 10000], idx)\n",
    "s2\n",
    "s2.shape\n",
    "s2.dtype    #숫자(정수-int64, 실수-float64, 문자-object)"
   ]
  },
  {
   "cell_type": "code",
   "execution_count": 15,
   "id": "cd943a50-a154-4610-82ce-7d8a950bd793",
   "metadata": {},
   "outputs": [
    {
     "name": "stdout",
     "output_type": "stream",
     "text": [
      "      name  price\n",
      "1      키보드  20000\n",
      "2      마우스  32000\n",
      "3  USB 메모리  10000\n",
      "<class 'pandas.core.frame.DataFrame'>\n",
      "Index(['name', 'price'], dtype='object')\n",
      "(3, 2)\n"
     ]
    }
   ],
   "source": [
    "# 데이터 프레임 만들기\n",
    "import pandas as pd\n",
    "\n",
    "df = pd.DataFrame({\n",
    "    \"name\": s1, #key(칼럼명) : values(s1)\n",
    "    \"price\": s2\n",
    "})\n",
    "print(df)\n",
    "print(type(df))\n",
    "\n",
    "# 속성\n",
    "print(df.columns)\n",
    "print(df.shape)"
   ]
  },
  {
   "cell_type": "code",
   "execution_count": null,
   "id": "1c46fae4-63e9-474e-9f54-84f3393c114a",
   "metadata": {},
   "outputs": [],
   "source": []
  }
 ],
 "metadata": {
  "kernelspec": {
   "display_name": "Python 3 (ipykernel)",
   "language": "python",
   "name": "python3"
  },
  "language_info": {
   "codemirror_mode": {
    "name": "ipython",
    "version": 3
   },
   "file_extension": ".py",
   "mimetype": "text/x-python",
   "name": "python",
   "nbconvert_exporter": "python",
   "pygments_lexer": "ipython3",
   "version": "3.13.5"
  }
 },
 "nbformat": 4,
 "nbformat_minor": 5
}
