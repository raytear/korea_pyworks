{
 "cells": [
  {
   "cell_type": "code",
   "execution_count": 1,
   "id": "cdd485f8-4015-48bb-9f0b-71968d855ef4",
   "metadata": {},
   "outputs": [
    {
     "name": "stdout",
     "output_type": "stream",
     "text": [
      "Hello~ World\n"
     ]
    }
   ],
   "source": [
    "print(\"Hello~ World\")"
   ]
  },
  {
   "cell_type": "code",
   "execution_count": 5,
   "id": "b78faa7c-d5bb-4a85-92fe-d2a643d6e675",
   "metadata": {},
   "outputs": [
    {
     "name": "stdout",
     "output_type": "stream",
     "text": [
      "30\n",
      "-10\n",
      "200\n",
      "0.5\n",
      "0\n",
      "10\n"
     ]
    }
   ],
   "source": [
    "print(10 + 20)\n",
    "print(10 - 20)\n",
    "print(10 * 20)\n",
    "print(10 / 20)\n",
    "print(10 // 20)\n",
    "print(10 % 20)"
   ]
  },
  {
   "cell_type": "code",
   "execution_count": 6,
   "id": "6360741a-94d9-48de-8e78-a0c5ffabbe5a",
   "metadata": {},
   "outputs": [
    {
     "data": {
      "text/plain": [
       "['라면', '달걀']"
      ]
     },
     "execution_count": 6,
     "metadata": {},
     "output_type": "execute_result"
    }
   ],
   "source": [
    "n1 = 10\n",
    "n2 = 20\n",
    "\n",
    "n1 + n2\n",
    "n1 - n2\n",
    "\n",
    "carts = [\"커피\", \"라면\", \"달걀\"]\n",
    "carts\n",
    "carts[0]\n",
    "carts[-1]\n",
    "carts[1:]"
   ]
  },
  {
   "cell_type": "markdown",
   "id": "f24d58b5-1268-4ece-9625-4a8cdbf79d0a",
   "metadata": {},
   "source": [
    "## 함수 만들기\n",
    "- ### 기능: 절대값 계산\n",
    "- ### 설명: 음수는 양수로, 양수는 음수로 변환"
   ]
  },
  {
   "cell_type": "code",
   "execution_count": 7,
   "id": "e361996a-aa2c-43c9-8a64-b95670ee8e56",
   "metadata": {},
   "outputs": [
    {
     "data": {
      "text/plain": [
       "10"
      ]
     },
     "execution_count": 7,
     "metadata": {},
     "output_type": "execute_result"
    }
   ],
   "source": [
    "def my_abs(x):\n",
    "    if x < 0:\n",
    "        return -x\n",
    "    else:\n",
    "        return x\n",
    "\n",
    "my_abs(-10)\n",
    "my_abs(10)"
   ]
  },
  {
   "cell_type": "code",
   "execution_count": null,
   "id": "e285b818-03c6-4f81-a62d-5ba8f589d3c6",
   "metadata": {},
   "outputs": [],
   "source": []
  }
 ],
 "metadata": {
  "kernelspec": {
   "display_name": "Python 3 (ipykernel)",
   "language": "python",
   "name": "python3"
  },
  "language_info": {
   "codemirror_mode": {
    "name": "ipython",
    "version": 3
   },
   "file_extension": ".py",
   "mimetype": "text/x-python",
   "name": "python",
   "nbconvert_exporter": "python",
   "pygments_lexer": "ipython3",
   "version": "3.13.5"
  }
 },
 "nbformat": 4,
 "nbformat_minor": 5
}
