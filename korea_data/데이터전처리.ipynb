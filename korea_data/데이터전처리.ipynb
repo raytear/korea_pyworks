{
 "cells": [
  {
   "cell_type": "markdown",
   "id": "dcfc5bac-e491-4bdf-9bf4-de5506dd0a5a",
   "metadata": {},
   "source": [
    "### 데이터 전처리\n",
    "#### 데이터를 가공하고 수정, 삭제하는 등의 처리하는 작업"
   ]
  },
  {
   "cell_type": "code",
   "execution_count": 12,
   "id": "7dbc3566-d62c-4403-bdcb-ade4772cfa40",
   "metadata": {},
   "outputs": [
    {
     "name": "stdout",
     "output_type": "stream",
     "text": [
      "평균: 4928.57\n",
      "최대값:  7000\n",
      "최대값의 위치:  1\n",
      "1사분위수:  3750.0\n",
      "2사분위수:  5500.0\n"
     ]
    }
   ],
   "source": [
    "import pandas as pd\n",
    "\n",
    "# csv 파일 읽기 - read_csv()\n",
    "df = pd.read_csv(\"./datas/food.csv\")\n",
    "# print(df)\n",
    "\n",
    "# 주요 통계 함수 사용 - 가격\n",
    "# print(\"평균:\", sum(df['가격'])) #파이썬 방식\n",
    "print(\"평균:\", round(df['가격'].mean(), 2)) #pandas 방식\n",
    "print(\"최대값: \", df['가격'].max()) #최대값\n",
    "print(\"최대값의 위치: \", df['가격'].idxmax()) #최대값의 인덱스 번호\n",
    "\n",
    "# 사분위수(25%, 50%, 75%, 100%)\n",
    "print(\"1사분위수: \", df[\"가격\"].quantile(.25))\n",
    "print(\"2사분위수: \", df[\"가격\"].quantile(.50))\n",
    "print(\"중앙값: \", df[\"가격\"].median())"
   ]
  },
  {
   "cell_type": "markdown",
   "id": "251d0be2-0e64-4004-8bd1-d5f29f506176",
   "metadata": {},
   "source": [
    "### 결측치 처리\n",
    "- #### 결측치 삭제\n",
    "- #### 결측치 대체"
   ]
  },
  {
   "cell_type": "code",
   "execution_count": 18,
   "id": "20b7c1ee-f197-4979-8f6d-9dd47109dbf6",
   "metadata": {},
   "outputs": [
    {
     "name": "stdout",
     "output_type": "stream",
     "text": [
      "<class 'pandas.core.frame.DataFrame'>\n",
      "RangeIndex: 7 entries, 0 to 6\n",
      "Data columns (total 3 columns):\n",
      " #   Column  Non-Null Count  Dtype  \n",
      "---  ------  --------------  -----  \n",
      " 0   메뉴      6 non-null      object \n",
      " 1   가격      6 non-null      float64\n",
      " 2   분류      7 non-null      object \n",
      "dtypes: float64(1), object(2)\n",
      "memory usage: 300.0+ bytes\n",
      "    메뉴      가격  분류\n",
      "0   김밥  3000.0  한식\n",
      "1  비빔밥  7000.0  한식\n",
      "2  자장면  5500.0  중식\n",
      "3   우동  4750.0  일식\n",
      "4   김밥  3500.0  한식\n",
      "5  자장면  6000.0  중식\n",
      "6   김밥  4000.0  한식\n"
     ]
    }
   ],
   "source": [
    "import pandas as pd\n",
    "\n",
    "data = {\n",
    "    \"메뉴\": [\"김밥\", \"비빔밥\", \"자장면\", \"우동\", None, \"자장면\", \"김밥\"],\n",
    "    \"가격\": [3000, 7000, 5500, None, 3500, 6000, 4000],\n",
    "    \"분류\": [\"한식\", \"한식\", \"중식\", \"일식\", \"한식\", \"중식\", \"한식\"]\n",
    "}\n",
    "\n",
    "food = pd.DataFrame(data)\n",
    "food\n",
    "\n",
    "# 데이터 탐색\n",
    "food.info()\n",
    "\n",
    "# 결측치 확인 - isnull(), isna()\n",
    "food.isnull() #True(1) / False(0)\n",
    "food.isnull().sum()\n",
    "\n",
    "# 결측치 대체 - 수치형(평균값, 중간값)\n",
    "median = food['가격'].median()\n",
    "median\n",
    "\n",
    "# fillna(median)\n",
    "food['가격'] = food['가격'].fillna(median)\n",
    "food\n",
    "\n",
    "# 결측치 대체 - 문자형(최빈값)\n",
    "# frequency = food['메뉴'].mode() #시리즈 형태\n",
    "frequency = food['메뉴'].mode()[0] #최빈값\n",
    "frequency\n",
    "\n",
    "food['메뉴'] = food['메뉴'].fillna(frequency)\n",
    "print(food)\n",
    "\n"
   ]
  },
  {
   "cell_type": "markdown",
   "id": "2b6ef5cc-2d40-4dbf-b805-79e73ae0d29d",
   "metadata": {},
   "source": [
    "### 타이타닉호 - 데이터 분석 및 처리"
   ]
  },
  {
   "cell_type": "code",
   "execution_count": 32,
   "id": "16d9aced-4de9-4a80-aebc-7de989cabe1a",
   "metadata": {},
   "outputs": [
    {
     "name": "stdout",
     "output_type": "stream",
     "text": [
      "<class 'pandas.core.frame.DataFrame'>\n",
      "RangeIndex: 891 entries, 0 to 890\n",
      "Data columns (total 15 columns):\n",
      " #   Column       Non-Null Count  Dtype   \n",
      "---  ------       --------------  -----   \n",
      " 0   survived     891 non-null    int64   \n",
      " 1   pclass       891 non-null    int64   \n",
      " 2   sex          891 non-null    object  \n",
      " 3   age          714 non-null    float64 \n",
      " 4   sibsp        891 non-null    int64   \n",
      " 5   parch        891 non-null    int64   \n",
      " 6   fare         891 non-null    float64 \n",
      " 7   embarked     889 non-null    object  \n",
      " 8   class        891 non-null    category\n",
      " 9   who          891 non-null    object  \n",
      " 10  adult_male   891 non-null    bool    \n",
      " 11  deck         203 non-null    category\n",
      " 12  embark_town  889 non-null    object  \n",
      " 13  alive        891 non-null    object  \n",
      " 14  alone        891 non-null    bool    \n",
      "dtypes: bool(2), category(2), float64(2), int64(4), object(5)\n",
      "memory usage: 80.7+ KB\n",
      "29.69911764705882\n",
      "Southampton\n",
      "<class 'pandas.core.frame.DataFrame'>\n",
      "RangeIndex: 891 entries, 0 to 890\n",
      "Data columns (total 14 columns):\n",
      " #   Column       Non-Null Count  Dtype   \n",
      "---  ------       --------------  -----   \n",
      " 0   survived     891 non-null    int64   \n",
      " 1   pclass       891 non-null    int64   \n",
      " 2   sex          891 non-null    object  \n",
      " 3   age          891 non-null    float64 \n",
      " 4   sibsp        891 non-null    int64   \n",
      " 5   parch        891 non-null    int64   \n",
      " 6   fare         891 non-null    float64 \n",
      " 7   embarked     889 non-null    object  \n",
      " 8   class        891 non-null    category\n",
      " 9   who          891 non-null    object  \n",
      " 10  adult_male   891 non-null    bool    \n",
      " 11  embark_town  891 non-null    object  \n",
      " 12  alive        891 non-null    object  \n",
      " 13  alone        891 non-null    bool    \n",
      "dtypes: bool(2), category(1), float64(2), int64(4), object(5)\n",
      "memory usage: 79.4+ KB\n"
     ]
    }
   ],
   "source": [
    "import pandas as pd\n",
    "import seaborn as sns\n",
    "\n",
    "# 시본의 데이터셋인 타이타닉 가져오기\n",
    "df = sns.load_dataset('titanic')\n",
    "df.head()\n",
    "df.info()\n",
    "\n",
    "# 결측치 확인\n",
    "df.isnull().sum()\n",
    "\n",
    "# deck 칼럼 삭제\n",
    "df = df.drop(\"deck\", axis=1)\n",
    "\n",
    "# age 칼럼 - 평균값 대체\n",
    "mean = df['age'].mean()\n",
    "print(mean)\n",
    "\n",
    "df['age'] = df['age'].fillna(mean)\n",
    "\n",
    "# embark_town - 최빈값 대체\n",
    "# df['embark_town'][825:830]\n",
    "freq = df['embark_town'].mode()[0]\n",
    "print(freq)\n",
    "\n",
    "df['embark_town'] = df['embark_town'].fillna(freq)\n",
    "df.info()\n",
    "df.isna().sum()"
   ]
  }
 ],
 "metadata": {
  "kernelspec": {
   "display_name": "Python 3 (ipykernel)",
   "language": "python",
   "name": "python3"
  },
  "language_info": {
   "codemirror_mode": {
    "name": "ipython",
    "version": 3
   },
   "file_extension": ".py",
   "mimetype": "text/x-python",
   "name": "python",
   "nbconvert_exporter": "python",
   "pygments_lexer": "ipython3",
   "version": "3.13.5"
  }
 },
 "nbformat": 4,
 "nbformat_minor": 5
}
