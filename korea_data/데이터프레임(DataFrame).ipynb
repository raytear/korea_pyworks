{
 "cells": [
  {
   "cell_type": "markdown",
   "id": "e5807b35-feaf-4630-9fb6-ae614a14714c",
   "metadata": {},
   "source": [
    "### 데이터프레임 만들기"
   ]
  },
  {
   "cell_type": "code",
   "execution_count": 1,
   "id": "dcf5b82e-fd25-447d-94ff-0145c9c3ba1d",
   "metadata": {},
   "outputs": [
    {
     "data": {
      "text/html": [
       "<div>\n",
       "<style scoped>\n",
       "    .dataframe tbody tr th:only-of-type {\n",
       "        vertical-align: middle;\n",
       "    }\n",
       "\n",
       "    .dataframe tbody tr th {\n",
       "        vertical-align: top;\n",
       "    }\n",
       "\n",
       "    .dataframe thead th {\n",
       "        text-align: right;\n",
       "    }\n",
       "</style>\n",
       "<table border=\"1\" class=\"dataframe\">\n",
       "  <thead>\n",
       "    <tr style=\"text-align: right;\">\n",
       "      <th></th>\n",
       "      <th>name</th>\n",
       "      <th>price</th>\n",
       "    </tr>\n",
       "  </thead>\n",
       "  <tbody>\n",
       "    <tr>\n",
       "      <th>0</th>\n",
       "      <td>키보드</td>\n",
       "      <td>20000</td>\n",
       "    </tr>\n",
       "    <tr>\n",
       "      <th>1</th>\n",
       "      <td>마우스</td>\n",
       "      <td>32000</td>\n",
       "    </tr>\n",
       "    <tr>\n",
       "      <th>2</th>\n",
       "      <td>USB 메모리</td>\n",
       "      <td>11000</td>\n",
       "    </tr>\n",
       "  </tbody>\n",
       "</table>\n",
       "</div>"
      ],
      "text/plain": [
       "      name  price\n",
       "0      키보드  20000\n",
       "1      마우스  32000\n",
       "2  USB 메모리  11000"
      ]
     },
     "execution_count": 1,
     "metadata": {},
     "output_type": "execute_result"
    }
   ],
   "source": [
    "# ctrl + Enter(실행)\n",
    "# shift + Enter(실행 후 한 개의 셀이 생성)\n",
    "\n",
    "import pandas as pd\n",
    "\n",
    "data = [\n",
    "    [\"키보드\", 20000],\n",
    "    [\"마우스\", 32000],\n",
    "    [\"USB 메모리\", 11000],\n",
    "]\n",
    "\n",
    "df = pd.DataFrame(data, columns=[\"name\", \"price\"])\n",
    "df\n",
    "\n",
    "# 칼럼으로 검색함\n",
    "df[\"name\"]\n",
    "df[[\"name\", \"price\"]]  #바깥쪽 - 검색 [], 안쪽 - 리스트 []"
   ]
  },
  {
   "cell_type": "code",
   "execution_count": 9,
   "id": "4abc158b-f7e8-4e3d-8464-cad3763ef47b",
   "metadata": {},
   "outputs": [],
   "source": [
    "import pandas as pd\n",
    "\n",
    "# 방법2\n",
    "df = pd.DataFrame({\n",
    "    \"name\": [\"키보드\", \"마우스\", \"USB 메모리\"],\n",
    "    \"price\": [20000, 32000, 10000]\n",
    "})\n",
    "df\n",
    "\n",
    "# 칼럼 추가\n",
    "df['spec'] = ['유선', '무선', '128GB']\n",
    "df\n",
    "\n",
    "# 파생 칼럼 추가(할인가(20% 할인) - 가격 x 0.8)\n",
    "df[\"할인가\"] = df[\"price\"] * 0.8\n",
    "df\n",
    "\n",
    "# 칼럼명 변경 - rename()\n",
    "df = df.rename(columns={\"name\": \"품명\", \"price\": \"가격\", \"spec\": \"제품상세\"})\n",
    "df\n",
    "\n",
    "# csv 파일로 만들기 - to_csv(\"파일이름\")\n",
    "df.to_csv(\"datas/computer.csv\", index=False)"
   ]
  },
  {
   "cell_type": "code",
   "execution_count": 11,
   "id": "66836afd-a2e7-4ada-8b0a-dd5476659463",
   "metadata": {
    "scrolled": true
   },
   "outputs": [
    {
     "name": "stdout",
     "output_type": "stream",
     "text": [
      "        품명     가격   제품상세      할인가\n",
      "0      키보드  20000     유선  16000.0\n",
      "1      마우스  32000     무선  25600.0\n",
      "2  USB 메모리  10000  128GB   8000.0\n",
      "품명          키보드\n",
      "가격        20000\n",
      "제품상세         유선\n",
      "할인가     16000.0\n",
      "Name: 0, dtype: object\n",
      "키보드\n",
      "32000\n",
      "0    키보드\n",
      "1    마우스\n",
      "Name: 품명, dtype: object\n",
      "    품명     가격\n",
      "0  키보드  20000\n",
      "1  마우스  32000\n"
     ]
    }
   ],
   "source": [
    "import pandas as pd\n",
    "\n",
    "# csv 파일 읽기 - pd.read_csv(파일이름)\n",
    "df = pd.read_csv(\"datas/computer.csv\")\n",
    "print(df)\n",
    "\n",
    "# 데이터 선택 - loc[행(인덱스명), 열(칼럼명)]\n",
    "print(df.loc[0]) #행 전체의 값 선택\n",
    "print(df.loc[0, \"품명\"]) #키보드\n",
    "print(df.loc[1, \"가격\"]) #32000\n",
    "print(df.loc[0:1, \"품명\"])\n",
    "print(df.loc[0:1, [\"품명\", \"가격\"]])"
   ]
  },
  {
   "cell_type": "code",
   "execution_count": 15,
   "id": "1ab5cdc9-4a02-4b7b-a853-34f16e2b4daf",
   "metadata": {},
   "outputs": [
    {
     "name": "stdout",
     "output_type": "stream",
     "text": [
      "        품명     가격   제품상세      할인가\n",
      "0      키보드  20000     유선  16000.0\n",
      "1    무선마우스  35000     무선  25600.0\n",
      "2  USB 메모리  10000  128GB   8000.0\n",
      "3   무선 키보드  40000     무선      0.0\n",
      "        품명     가격   제품상세      할인가\n",
      "0      키보드  20000     유선  16000.0\n",
      "1    무선마우스  35000     무선  25600.0\n",
      "2  USB 메모리  10000  128GB   8000.0\n",
      "3   무선 키보드  40000     무선      0.0\n",
      "        품명     가격   제품상세      할인가\n",
      "0      키보드  20000     유선  16000.0\n",
      "1    무선마우스  35000     무선  25600.0\n",
      "2  USB 메모리  10000  128GB   8000.0\n",
      "3   무선 키보드  40000     무선  32000.0\n"
     ]
    }
   ],
   "source": [
    "# 데이터 수집(변경)\n",
    "print(df)\n",
    "df.loc[1, \"품명\"] = \"무선마우스\"\n",
    "df.loc[1, \"가격\"] = 35000\n",
    "print(df)\n",
    "\n",
    "# 행(품목) 추가\n",
    "df.loc[3] = [\"무선 키보드\", 40000, \"무선\", 0.0]\n",
    "df.loc[3, \"할인가\"] = df.loc[3, \"가격\"] * 0.8\n",
    "print(df)\n",
    "\n",
    "# csv 파일 만들기\n",
    "df.to_csv(\"datas/computer2.csv\", index=False)"
   ]
  },
  {
   "cell_type": "code",
   "execution_count": 19,
   "id": "f9ec2b13-eb0a-4590-9004-22e580a429d0",
   "metadata": {},
   "outputs": [
    {
     "name": "stdout",
     "output_type": "stream",
     "text": [
      "        품명     가격   제품상세      할인가\n",
      "0      키보드  20000     유선  16000.0\n",
      "1    무선마우스  35000     무선  25600.0\n",
      "2  USB 메모리  10000  128GB   8000.0\n",
      "3   무선 키보드  40000     무선  32000.0\n",
      "        품명     가격   제품상세\n",
      "0      키보드  20000     유선\n",
      "1    무선마우스  35000     무선\n",
      "2  USB 메모리  10000  128GB\n"
     ]
    }
   ],
   "source": [
    "import pandas as pd\n",
    "\n",
    "df = pd.read_csv(\"datas/computer2.csv\")\n",
    "print(df)\n",
    "\n",
    "# 칼럼(열) 추가\n",
    "df_new = df.copy() #원본 유지\n",
    "df_new[\"수량\"] = [100, 50, 200, 30]\n",
    "df_new\n",
    "\n",
    "# 행 삭제 - drop(행이름, axis=0)\n",
    "df_new = df_new.drop(3, axis=0)\n",
    "df_new\n",
    "\n",
    "# 열 삭제 - drop(열이름, axis=1)\n",
    "# df_new = df_new.drop(\"할인가\", axis=1)\n",
    "df_new = df_new.drop([\"할인가\", \"수량\"], axis=1)\n",
    "print(df_new)"
   ]
  }
 ],
 "metadata": {
  "kernelspec": {
   "display_name": "Python 3 (ipykernel)",
   "language": "python",
   "name": "python3"
  },
  "language_info": {
   "codemirror_mode": {
    "name": "ipython",
    "version": 3
   },
   "file_extension": ".py",
   "mimetype": "text/x-python",
   "name": "python",
   "nbconvert_exporter": "python",
   "pygments_lexer": "ipython3",
   "version": "3.13.5"
  }
 },
 "nbformat": 4,
 "nbformat_minor": 5
}
